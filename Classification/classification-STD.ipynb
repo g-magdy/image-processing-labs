{
 "cells": [
  {
   "cell_type": "markdown",
   "metadata": {},
   "source": [
    "# Lab - Classification\n",
    "\n",
    "In this lab, we are going to build a classification module. When given an image of a handwritten digit like the one below, the model will be able to tell which digit is in the image.\n",
    "\n",
    "<img src='test2.jpg'>"
   ]
  },
  {
   "cell_type": "code",
   "execution_count": 8,
   "metadata": {},
   "outputs": [],
   "source": [
    "from sklearn.neighbors import KNeighborsClassifier\n",
    "from sklearn.neural_network import MLPClassifier  # MLP is an NN\n",
    "from sklearn import svm\n",
    "import numpy as np\n",
    "import argparse\n",
    "import imutils  # If you are unable to install this library, ask the TA; we only need this in extract_hsv_histogram.\n",
    "import cv2\n",
    "import os\n",
    "import random\n",
    "\n",
    "\n",
    "# Depending on library versions on your system, one of the following imports \n",
    "from sklearn.model_selection import train_test_split\n",
    "#from sklearn.cross_validation import train_test_split"
   ]
  },
  {
   "cell_type": "code",
   "execution_count": 9,
   "metadata": {},
   "outputs": [],
   "source": [
    "path_to_dataset = r'digits_dataset'\n",
    "target_img_size = (32, 32) # fix image size because classification algorithms THAT WE WILL USE HERE expect that\n",
    "\n",
    "# We are going to fix the random seed to make our experiments reproducible \n",
    "# since some algorithms use pseudorandom generators\n",
    "random_seed = 42  \n",
    "random.seed(random_seed)\n",
    "np.random.seed(random_seed)"
   ]
  },
  {
   "cell_type": "markdown",
   "metadata": {},
   "source": [
    "## Part I - Feature Extraction\n",
    "\n",
    "In this part, we are going to implement three functions. Each one will extract a different set of features from the image. The three sets are:\n",
    "\n",
    "1. Histogram of the pixel values features (this is the histogram you know, but on the HSV channels)\n",
    "2. Histogram of Gradients (HoG) features\n",
    "3. Raw pixels (basically, not doing any feature extraction and just supplying the input image to the classifier)"
   ]
  },
  {
   "cell_type": "code",
   "execution_count": 10,
   "metadata": {},
   "outputs": [],
   "source": [
    "def extract_hsv_histogram(img):\n",
    "    \"\"\"\n",
    "    TODO\n",
    "    1. Resize the image to target_img_size using cv2.resize #DONE\n",
    "    2. Convert the image from BGR representation (cv2 is BGR not RGB) to HSV using cv2.cvtColor\n",
    "    3. Acquire the histogram using the cv2.calcHist. Apply the functions on the 3 channels. For the bins \n",
    "        parameter pass (8, 8, 8). For the ranges parameter pass ([0, 180, 0, 256, 0, 256]). Name the histogram\n",
    "        <hist>.\n",
    "    \"\"\"\n",
    "    img=cv2.resize(img, target_img_size)\n",
    "    img = cv2.cvtColor(img, cv2.COLOR_BGR2HSV) #BGR to HSV vs 66 for BGR to HSV full (range of H 0-> 255 vs 0->180)\n",
    "\n",
    "    #cv2.calcHist(images, channels, mask, histSize, ranges)\n",
    "    hist = cv2.calcHist([img], [0, 1, 2], None, [8, 8, 8], [0, 180, 0, 256, 0, 256])\n",
    "\n",
    "    if imutils.is_cv2():\n",
    "        hist = cv2.normalize(hist)\n",
    "    else:\n",
    "        cv2.normalize(hist, hist)\n",
    "    return hist.flatten()     "
   ]
  },
  {
   "cell_type": "code",
   "execution_count": 11,
   "metadata": {},
   "outputs": [],
   "source": [
    "def extract_hog_features(img):\n",
    "    \"\"\"\n",
    "    TODO\n",
    "    You won't implement anything in this function. You just need to understand it \n",
    "    and understand its parameters (i.e win_size, cell_size, ... etc)\n",
    "    \"\"\"\n",
    "    img = cv2.resize(img, target_img_size) #resized image to (32,32)\n",
    "    win_size = (32, 32)\n",
    "    cell_size = (4, 4)\n",
    "    block_size_in_cells = (2, 2) #we have 8n cells in image\n",
    "    #divide into blocks of 2x2 cells \n",
    "    # image has 4 blocks    \n",
    "    block_size = (block_size_in_cells[1] * cell_size[1], block_size_in_cells[0] * cell_size[0])\n",
    "    block_stride = (cell_size[1], cell_size[0]) # why reversed? because of the way opencv is implemented\n",
    "    nbins = 9  # Number of orientation bins\n",
    "    hog = cv2.HOGDescriptor(win_size, block_size, block_stride, cell_size, nbins)\n",
    "    h = hog.compute(img)\n",
    "    h = h.flatten()\n",
    "    return h.flatten()"
   ]
  },
  {
   "cell_type": "code",
   "execution_count": 12,
   "metadata": {},
   "outputs": [],
   "source": [
    "def extract_raw_pixels(img):\n",
    "    \"\"\"\n",
    "    TODO\n",
    "    The classification algorithms we are going to use expect the input to be a vector not a matrix. \n",
    "    This is because they are general purpose and don't work only on images.\n",
    "    CNNs, on the other hand, expect matrices since they operate on images and exploit the \n",
    "    arrangement of pixels in the 2-D space.\n",
    "    \n",
    "    So, what we only need to do in this function is to resize and flatten the image.\n",
    "    \"\"\"\n",
    "    img = cv2.resize(img, target_img_size)\n",
    "    img = img.flatten()\n",
    "    return img"
   ]
  },
  {
   "cell_type": "code",
   "execution_count": 13,
   "metadata": {},
   "outputs": [],
   "source": [
    "def extract_features(img, feature_set='hog'):\n",
    "    \"\"\"\n",
    "    TODO\n",
    "    Given either 'hsv_hist', 'hog', 'raw', call the respective function and return its output\n",
    "    \"\"\"\n",
    "    switcher = {\n",
    "        'hsv_hist': extract_hsv_histogram,\n",
    "        'hog': extract_hog_features,\n",
    "        'raw': extract_raw_pixels\n",
    "    }\n",
    "    return switcher[feature_set](img)"
   ]
  },
  {
   "cell_type": "markdown",
   "metadata": {},
   "source": [
    "The following function will extract the features and the label of each image in our dataset and save it in RAM. We normally don't save datasets in RAM, but this dataset is small."
   ]
  },
  {
   "cell_type": "code",
   "execution_count": 14,
   "metadata": {},
   "outputs": [],
   "source": [
    "def load_dataset(feature_set='hog'):\n",
    "    features = []\n",
    "    labels = []\n",
    "    img_filenames = os.listdir(path_to_dataset)\n",
    "\n",
    "    for i, fn in enumerate(img_filenames):\n",
    "        if fn.split('.')[-1] != 'jpg':\n",
    "            continue\n",
    "\n",
    "        label = fn.split('.')[0]\n",
    "        labels.append(label)\n",
    "\n",
    "        path = os.path.join(path_to_dataset, fn)\n",
    "        img = cv2.imread(path)\n",
    "        features.append(extract_features(img, feature_set))\n",
    "        \n",
    "        # show an update every 1,000 images\n",
    "        if i > 0 and i % 1000 == 0:\n",
    "            print(\"[INFO] processed {}/{}\".format(i, len(img_filenames)))\n",
    "        \n",
    "    return features, labels        "
   ]
  },
  {
   "cell_type": "markdown",
   "metadata": {},
   "source": [
    "## Part II - Classification\n",
    "\n",
    "In this part, we will test the classification performance of SVM, KNN, & NNs given our features."
   ]
  },
  {
   "cell_type": "code",
   "execution_count": null,
   "metadata": {},
   "outputs": [],
   "source": [
    "# TODO understand the hyperparameters of each classifier\n",
    "classifiers = {\n",
    "    'SVM': svm.LinearSVC(random_state=random_seed),\n",
    "    'KNN': KNeighborsClassifier(n_neighbors=3),\n",
    "    'NN': MLPClassifier(solver='sgd', random_state=random_seed, hidden_layer_sizes=(500,), max_iter=50, verbose=1)\n",
    "}"
   ]
  },
  {
   "cell_type": "code",
   "execution_count": 25,
   "metadata": {},
   "outputs": [],
   "source": [
    "# This function will test all our classifiers on a specific feature set\n",
    "def run_experiment(feature_set):\n",
    "    \n",
    "    # Load dataset with extracted features\n",
    "    print('Loading dataset. This will take time ...')\n",
    "    features, labels = load_dataset(feature_set)\n",
    "    print('Finished loading dataset.')\n",
    "    \n",
    "    # Since we don't want to know the performance of our classifier on images it has seen before\n",
    "    # we are going to withhold some images that we will test the classifier on after training \n",
    "    train_features, test_features, train_labels, test_labels = train_test_split(\n",
    "        features, labels, test_size=0.2, random_state=random_seed)\n",
    "    \n",
    "    for model_name, model in classifiers.items():\n",
    "        print('############## Training', model_name, \"##############\")\n",
    "        # Train the model only on the training features\n",
    "        model.fit(train_features, train_labels)\n",
    "        \n",
    "        # Test the model on images it hasn't seen before\n",
    "        accuracy = model.score(test_features, test_labels)\n",
    "        \n",
    "        print(model_name, 'accuracy:', accuracy*100, '%')"
   ]
  },
  {
   "cell_type": "markdown",
   "metadata": {},
   "source": [
    "Now, we see how each classifier and each feature set performs"
   ]
  },
  {
   "cell_type": "code",
   "execution_count": null,
   "metadata": {},
   "outputs": [
    {
     "name": "stdout",
     "output_type": "stream",
     "text": [
      "Loading dataset. This will take time ...\n",
      "[INFO] processed 1000/7200\n",
      "[INFO] processed 2000/7200\n",
      "[INFO] processed 3000/7200\n",
      "[INFO] processed 4000/7200\n",
      "[INFO] processed 5000/7200\n",
      "[INFO] processed 6000/7200\n",
      "[INFO] processed 7000/7200\n",
      "Finished loading dataset.\n",
      "############## Training SVM ##############\n",
      "SVM accuracy: 97.43055555555556 %\n",
      "############## Training KNN ##############\n",
      "KNN accuracy: 96.80555555555556 %\n",
      "############## Training NN ##############\n",
      "Iteration 1, loss = 2.15856157\n",
      "Iteration 2, loss = 1.99729607\n",
      "Iteration 3, loss = 1.83723722\n",
      "Iteration 4, loss = 1.68403547\n",
      "Iteration 5, loss = 1.53617217\n",
      "Iteration 6, loss = 1.39650686\n",
      "Iteration 7, loss = 1.26711559\n",
      "Iteration 8, loss = 1.15002170\n",
      "Iteration 9, loss = 1.04579189\n",
      "Iteration 10, loss = 0.95388062\n",
      "Iteration 11, loss = 0.87339218\n",
      "Iteration 12, loss = 0.80325679\n",
      "Iteration 13, loss = 0.74236312\n",
      "Iteration 14, loss = 0.68890729\n",
      "Iteration 15, loss = 0.64224823\n",
      "Iteration 16, loss = 0.60140057\n",
      "Iteration 17, loss = 0.56539334\n",
      "Iteration 18, loss = 0.53364449\n",
      "Iteration 19, loss = 0.50519764\n",
      "Iteration 20, loss = 0.47986842\n",
      "Iteration 21, loss = 0.45718650\n",
      "Iteration 22, loss = 0.43676404\n",
      "Iteration 23, loss = 0.41829813\n",
      "Iteration 24, loss = 0.40157065\n",
      "Iteration 25, loss = 0.38620855\n",
      "Iteration 26, loss = 0.37226369\n",
      "Iteration 27, loss = 0.35941313\n",
      "Iteration 28, loss = 0.34750611\n",
      "Iteration 29, loss = 0.33644233\n",
      "Iteration 30, loss = 0.32624525\n",
      "Iteration 31, loss = 0.31683169\n",
      "Iteration 32, loss = 0.30804938\n",
      "Iteration 33, loss = 0.29988612\n",
      "Iteration 34, loss = 0.29203890\n",
      "Iteration 35, loss = 0.28495495\n",
      "Iteration 36, loss = 0.27800732\n",
      "Iteration 37, loss = 0.27159905\n",
      "Iteration 38, loss = 0.26558960\n",
      "Iteration 39, loss = 0.25989160\n",
      "Iteration 40, loss = 0.25447456\n",
      "Iteration 41, loss = 0.24941764\n",
      "Iteration 42, loss = 0.24448019\n",
      "Iteration 43, loss = 0.23983087\n",
      "Iteration 44, loss = 0.23543928\n",
      "Iteration 45, loss = 0.23128046\n",
      "Iteration 46, loss = 0.22727882\n",
      "Iteration 47, loss = 0.22335477\n",
      "Iteration 48, loss = 0.21969737\n",
      "Iteration 49, loss = 0.21618653\n",
      "Iteration 50, loss = 0.21279884\n",
      "NN accuracy: 95.34722222222223 %\n"
     ]
    },
    {
     "name": "stderr",
     "output_type": "stream",
     "text": [
      "/home/sarah/anaconda3/envs/img_processing/lib/python3.9/site-packages/sklearn/neural_network/_multilayer_perceptron.py:690: ConvergenceWarning: Stochastic Optimizer: Maximum iterations (50) reached and the optimization hasn't converged yet.\n",
      "  warnings.warn(\n"
     ]
    },
    {
     "data": {
      "text/plain": [
       "'\\nYou should get the following test accuracies the first time \\n\\nSVM accuracy ~ 97.70833333333333\\nKNN accuracy ~ 96.52777777777779\\nNN accuracy ~ 93.95833333333333\\n'"
      ]
     },
     "execution_count": 26,
     "metadata": {},
     "output_type": "execute_result"
    }
   ],
   "source": [
    "run_experiment('hog')\n",
    "\"\"\"\n",
    "You should get the following test accuracies the first time \n",
    "\n",
    "SVM accuracy ~ 97.70833333333333\n",
    "KNN accuracy ~ 96.52777777777779\n",
    "NN accuracy ~ 93.95833333333333\n",
    "\"\"\"\n",
    "#with max itr 50 \n",
    "############## Training SVM ##############\n",
    "#SVM accuracy: 97.43055555555556 %\n",
    "############## Training KNN ##############\n",
    "#KNN accuracy: 96.80555555555556 %\n",
    "############## Training NN ##############\n",
    "#NN accuracy: 95.34722222222223 %\n"
   ]
  },
  {
   "cell_type": "code",
   "execution_count": null,
   "metadata": {},
   "outputs": [
    {
     "name": "stdout",
     "output_type": "stream",
     "text": [
      "Loading dataset. This will take time ...\n",
      "[INFO] processed 1000/7200\n",
      "[INFO] processed 2000/7200\n",
      "[INFO] processed 3000/7200\n",
      "[INFO] processed 4000/7200\n",
      "[INFO] processed 5000/7200\n",
      "[INFO] processed 6000/7200\n",
      "[INFO] processed 7000/7200\n",
      "Finished loading dataset.\n",
      "############## Training SVM ##############\n",
      "SVM accuracy: 32.98611111111111 %\n",
      "############## Training KNN ##############\n",
      "KNN accuracy: 31.38888888888889 %\n",
      "############## Training NN ##############\n",
      "Iteration 1, loss = 2.20272909\n",
      "Iteration 2, loss = 2.20150481\n",
      "Iteration 3, loss = 2.20050231\n",
      "Iteration 4, loss = 2.19970445\n",
      "Iteration 5, loss = 2.19902864\n",
      "Iteration 6, loss = 2.19850715\n",
      "Iteration 7, loss = 2.19810450\n",
      "Iteration 8, loss = 2.19780968\n",
      "Iteration 9, loss = 2.19748080\n",
      "Iteration 10, loss = 2.19729002\n",
      "Iteration 11, loss = 2.19709352\n",
      "Iteration 12, loss = 2.19693706\n",
      "Iteration 13, loss = 2.19680808\n",
      "Iteration 14, loss = 2.19671440\n",
      "Iteration 15, loss = 2.19664537\n",
      "Iteration 16, loss = 2.19658561\n",
      "Iteration 17, loss = 2.19651775\n",
      "Iteration 18, loss = 2.19646935\n",
      "Iteration 19, loss = 2.19641856\n",
      "Iteration 20, loss = 2.19638493\n",
      "Iteration 21, loss = 2.19633145\n",
      "Iteration 22, loss = 2.19631286\n",
      "Iteration 23, loss = 2.19629563\n",
      "Iteration 24, loss = 2.19622756\n",
      "Training loss did not improve more than tol=0.000100 for 10 consecutive epochs. Stopping.\n",
      "NN accuracy: 10.347222222222221 %\n"
     ]
    },
    {
     "data": {
      "text/plain": [
       "'\\nYou should get the following test accuracies the first time \\n\\nSVM accuracy ~ 32.083333333333336\\nKNN accuracy ~ 32.708333333333336\\nNN accuracy ~ 9.722222222222223\\n'"
      ]
     },
     "execution_count": 27,
     "metadata": {},
     "output_type": "execute_result"
    }
   ],
   "source": [
    "run_experiment('hsv_hist')\n",
    "\"\"\"\n",
    "You should get the following test accuracies the first time \n",
    "\n",
    "SVM accuracy ~ 32.083333333333336\n",
    "KNN accuracy ~ 32.708333333333336\n",
    "NN accuracy ~ 9.722222222222223\n",
    "\"\"\"\n",
    "#with max itr 50 \n",
    "\n",
    "\n",
    "# Why low accuracies? because the features extracted from the HSV are just colors and don't have a shape "
   ]
  },
  {
   "cell_type": "code",
   "execution_count": null,
   "metadata": {},
   "outputs": [
    {
     "name": "stdout",
     "output_type": "stream",
     "text": [
      "Loading dataset. This will take time ...\n",
      "[INFO] processed 1000/7200\n",
      "[INFO] processed 2000/7200\n",
      "[INFO] processed 3000/7200\n",
      "[INFO] processed 4000/7200\n",
      "[INFO] processed 5000/7200\n",
      "[INFO] processed 6000/7200\n",
      "[INFO] processed 7000/7200\n",
      "Finished loading dataset.\n",
      "############## Training SVM ##############\n"
     ]
    },
    {
     "name": "stderr",
     "output_type": "stream",
     "text": [
      "/home/sarah/anaconda3/envs/img_processing/lib/python3.9/site-packages/sklearn/svm/_base.py:1235: ConvergenceWarning: Liblinear failed to converge, increase the number of iterations.\n",
      "  warnings.warn(\n"
     ]
    },
    {
     "name": "stdout",
     "output_type": "stream",
     "text": [
      "SVM accuracy: 82.91666666666667 %\n",
      "############## Training KNN ##############\n",
      "KNN accuracy: 94.375 %\n",
      "############## Training NN ##############\n",
      "Iteration 1, loss = 9.72686764\n",
      "Iteration 2, loss = 1.14668077\n",
      "Iteration 3, loss = 0.94446195\n",
      "Iteration 4, loss = 0.73025792\n",
      "Iteration 5, loss = 0.61427354\n",
      "Iteration 6, loss = 0.51020100\n",
      "Iteration 7, loss = 0.46347263\n",
      "Iteration 8, loss = 0.45281525\n",
      "Iteration 9, loss = 0.44193702\n",
      "Iteration 10, loss = 0.37593514\n",
      "Iteration 11, loss = 0.36592295\n",
      "Iteration 12, loss = 0.32526623\n",
      "Iteration 13, loss = 0.29667244\n",
      "Iteration 14, loss = 0.28674704\n",
      "Iteration 15, loss = 0.28680128\n",
      "Iteration 16, loss = 0.25673271\n",
      "Iteration 17, loss = 0.24361837\n",
      "Iteration 18, loss = 0.24766172\n",
      "Iteration 19, loss = 0.24157142\n",
      "Iteration 20, loss = 0.21627647\n",
      "Iteration 21, loss = 0.19947636\n",
      "Iteration 22, loss = 0.18681498\n",
      "Iteration 23, loss = 0.20328489\n",
      "Iteration 24, loss = 0.26911024\n",
      "Iteration 25, loss = 0.21789060\n",
      "Iteration 26, loss = 0.20948026\n",
      "Iteration 27, loss = 0.20225637\n",
      "Iteration 28, loss = 0.18425135\n",
      "Iteration 29, loss = 0.16448723\n",
      "Iteration 30, loss = 0.16123506\n",
      "Iteration 31, loss = 0.15354184\n",
      "Iteration 32, loss = 0.14892526\n",
      "Iteration 33, loss = 0.14991910\n",
      "Iteration 34, loss = 0.14872724\n",
      "Iteration 35, loss = 0.13721541\n",
      "Iteration 36, loss = 0.13554394\n",
      "Iteration 37, loss = 0.13357324\n",
      "Iteration 38, loss = 0.12971653\n",
      "Iteration 39, loss = 0.12089513\n",
      "Iteration 40, loss = 0.14405338\n",
      "Iteration 41, loss = 0.12175557\n",
      "Iteration 42, loss = 0.12323067\n",
      "Iteration 43, loss = 0.12440421\n",
      "Iteration 44, loss = 0.13667008\n",
      "Iteration 45, loss = 0.12946264\n",
      "Iteration 46, loss = 0.10209400\n",
      "Iteration 47, loss = 0.09602724\n",
      "Iteration 48, loss = 0.10948921\n",
      "Iteration 49, loss = 0.09874463\n",
      "Iteration 50, loss = 0.10629179\n",
      "NN accuracy: 89.72222222222223 %\n"
     ]
    },
    {
     "name": "stderr",
     "output_type": "stream",
     "text": [
      "/home/sarah/anaconda3/envs/img_processing/lib/python3.9/site-packages/sklearn/neural_network/_multilayer_perceptron.py:690: ConvergenceWarning: Stochastic Optimizer: Maximum iterations (50) reached and the optimization hasn't converged yet.\n",
      "  warnings.warn(\n"
     ]
    },
    {
     "data": {
      "text/plain": [
       "'\\nYou should get the following test accuracies the first time \\n\\nSVM accuracy ~ 85.06944444444444\\nKNN accuracy ~ 93.95833333333333\\nNN accuracy ~ 88.68055555555556\\n'"
      ]
     },
     "execution_count": 28,
     "metadata": {},
     "output_type": "execute_result"
    }
   ],
   "source": [
    "run_experiment('raw')\n",
    "\"\"\"\n",
    "You should get the following test accuracies the first time \n",
    "\n",
    "SVM accuracy ~ 85.06944444444444\n",
    "KNN accuracy ~ 93.95833333333333\n",
    "NN accuracy ~ 88.68055555555556\n",
    "\"\"\"\n",
    "# with 50 itr \n",
    "#SVM accuracy: 82.91666666666667 %\n",
    "############## Training KNN ##############\n",
    "#KNN accuracy: 94.375 %\n",
    "############## Training NN ##############\n",
    "# NN accuracy: 89.72222222222223 %"
   ]
  },
  {
   "cell_type": "markdown",
   "metadata": {},
   "source": [
    "The classifiers list now has models trained on the last feature set you ran an experiment on. You can play around with it checking the probability it gives to each label, given an image."
   ]
  },
  {
   "cell_type": "code",
   "execution_count": 29,
   "metadata": {},
   "outputs": [],
   "source": [
    "# Example\n",
    "test_img_path = 'test2.jpg'\n",
    "img = cv2.imread(test_img_path)\n",
    "features = extract_features(img, 'raw')  # be careful of the choice of feature set"
   ]
  },
  {
   "cell_type": "code",
   "execution_count": 30,
   "metadata": {},
   "outputs": [
    {
     "data": {
      "text/plain": [
       "array([[2.41324100e-21, 9.99999643e-01, 1.48425668e-09, 6.07924662e-18,\n",
       "        8.57895916e-09, 1.69214819e-10, 3.46612999e-07, 1.27440132e-47,\n",
       "        5.35384213e-23]])"
      ]
     },
     "execution_count": 30,
     "metadata": {},
     "output_type": "execute_result"
    }
   ],
   "source": [
    "nn = classifiers['NN']\n",
    "nn.predict_proba([features])"
   ]
  },
  {
   "cell_type": "markdown",
   "metadata": {},
   "source": [
    "Try to get a better accuracy by changing the model hyperparameters and retraining."
   ]
  }
 ],
 "metadata": {
  "kernelspec": {
   "display_name": "img_processing",
   "language": "python",
   "name": "python3"
  },
  "language_info": {
   "codemirror_mode": {
    "name": "ipython",
    "version": 3
   },
   "file_extension": ".py",
   "mimetype": "text/x-python",
   "name": "python",
   "nbconvert_exporter": "python",
   "pygments_lexer": "ipython3",
   "version": "3.9.20"
  }
 },
 "nbformat": 4,
 "nbformat_minor": 2
}
